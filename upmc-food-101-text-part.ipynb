{
 "cells": [
  {
   "cell_type": "markdown",
   "id": "4b059735",
   "metadata": {
    "papermill": {
     "duration": 0.005149,
     "end_time": "2025-04-20T07:24:50.108103",
     "exception": false,
     "start_time": "2025-04-20T07:24:50.102954",
     "status": "completed"
    },
    "tags": []
   },
   "source": [
    "## Unimodal Training before Multimodal Training\n",
    "\n",
    "### Imports and class name extraction"
   ]
  },
  {
   "cell_type": "code",
   "execution_count": 1,
   "id": "bd2a0643",
   "metadata": {
    "_cell_guid": "b1076dfc-b9ad-4769-8c92-a6c4dae69d19",
    "_uuid": "8f2839f25d086af736a60e9eeb907d3b93b6e0e5",
    "execution": {
     "iopub.execute_input": "2025-04-20T07:24:50.118252Z",
     "iopub.status.busy": "2025-04-20T07:24:50.117649Z",
     "iopub.status.idle": "2025-04-20T07:24:50.868248Z",
     "shell.execute_reply": "2025-04-20T07:24:50.867422Z"
    },
    "papermill": {
     "duration": 0.757653,
     "end_time": "2025-04-20T07:24:50.870134",
     "exception": false,
     "start_time": "2025-04-20T07:24:50.112481",
     "status": "completed"
    },
    "tags": []
   },
   "outputs": [
    {
     "name": "stdout",
     "output_type": "stream",
     "text": [
      "/kaggle/input/upmcfood101/texts/train_titles.csv\n",
      "/kaggle/input/upmcfood101/texts/test_titles.csv\n"
     ]
    }
   ],
   "source": [
    "import numpy as np # linear algebra\n",
    "import pandas as pd # data processing, CSV file I/O (e.g. pd.read_csv)\n",
    "\n",
    "import os\n",
    "for dirname, _, filenames in os.walk('/kaggle/input/upmcfood101/texts'):\n",
    "    for filename in filenames:\n",
    "        print(os.path.join(dirname, filename))"
   ]
  },
  {
   "cell_type": "markdown",
   "id": "92174e59",
   "metadata": {
    "papermill": {
     "duration": 0.005127,
     "end_time": "2025-04-20T07:24:50.880550",
     "exception": false,
     "start_time": "2025-04-20T07:24:50.875423",
     "status": "completed"
    },
    "tags": []
   },
   "source": [
    "### Dataset organization"
   ]
  },
  {
   "cell_type": "code",
   "execution_count": 2,
   "id": "b5aad229",
   "metadata": {
    "execution": {
     "iopub.execute_input": "2025-04-20T07:24:50.890556Z",
     "iopub.status.busy": "2025-04-20T07:24:50.889943Z",
     "iopub.status.idle": "2025-04-20T07:24:50.895751Z",
     "shell.execute_reply": "2025-04-20T07:24:50.894982Z"
    },
    "papermill": {
     "duration": 0.012684,
     "end_time": "2025-04-20T07:24:50.897406",
     "exception": false,
     "start_time": "2025-04-20T07:24:50.884722",
     "status": "completed"
    },
    "tags": []
   },
   "outputs": [],
   "source": [
    "image_root = '/kaggle/input/upmcfood101/images/'\n",
    "datalink = {\n",
    "    'train': '/kaggle/input/upmcfood101/texts/train_titles.csv',\n",
    "    'test' : '/kaggle/input/upmcfood101/texts/test_titles.csv'\n",
    "}\n",
    "col_Names=[\"Images\", \"Titles\", \"Labels\"]\n",
    "def fast_scandir(dirname):\n",
    "    subfolders= [f.path for f in os.scandir(dirname) if f.is_dir()]\n",
    "    for dirname in list(subfolders):\n",
    "        subfolders.extend(fast_scandir(dirname))\n",
    "    return subfolders"
   ]
  },
  {
   "cell_type": "markdown",
   "id": "0857bf88",
   "metadata": {
    "papermill": {
     "duration": 0.003914,
     "end_time": "2025-04-20T07:24:50.905599",
     "exception": false,
     "start_time": "2025-04-20T07:24:50.901685",
     "status": "completed"
    },
    "tags": []
   },
   "source": [
    "### Dataloader and Augmentation"
   ]
  },
  {
   "cell_type": "code",
   "execution_count": 3,
   "id": "2737fc97",
   "metadata": {
    "execution": {
     "iopub.execute_input": "2025-04-20T07:24:50.915266Z",
     "iopub.status.busy": "2025-04-20T07:24:50.914588Z",
     "iopub.status.idle": "2025-04-20T07:27:05.221405Z",
     "shell.execute_reply": "2025-04-20T07:27:05.220554Z"
    },
    "papermill": {
     "duration": 134.3135,
     "end_time": "2025-04-20T07:27:05.223224",
     "exception": false,
     "start_time": "2025-04-20T07:24:50.909724",
     "status": "completed"
    },
    "tags": []
   },
   "outputs": [
    {
     "name": "stdout",
     "output_type": "stream",
     "text": [
      "Number of classes:  101\n",
      "macarons\n",
      "['apple_pie', 'baby_back_ribs', 'baklava', 'beef_carpaccio', 'beef_tartare', 'beet_salad', 'beignets', 'bibimbap', 'bread_pudding', 'breakfast_burrito', 'bruschetta', 'caesar_salad', 'cannoli', 'caprese_salad', 'carrot_cake', 'ceviche', 'cheese_plate', 'cheesecake', 'chicken_curry', 'chicken_quesadilla', 'chicken_wings', 'chocolate_cake', 'chocolate_mousse', 'churros', 'clam_chowder', 'club_sandwich', 'crab_cakes', 'creme_brulee', 'croque_madame', 'cup_cakes', 'deviled_eggs', 'donuts', 'dumplings', 'edamame', 'eggs_benedict', 'escargots', 'falafel', 'filet_mignon', 'fish_and_chips', 'foie_gras', 'french_fries', 'french_onion_soup', 'french_toast', 'fried_calamari', 'fried_rice', 'frozen_yogurt', 'garlic_bread', 'gnocchi', 'greek_salad', 'grilled_cheese_sandwich', 'grilled_salmon', 'guacamole', 'gyoza', 'hamburger', 'hot_and_sour_soup', 'hot_dog', 'huevos_rancheros', 'hummus', 'ice_cream', 'lasagna', 'lobster_bisque', 'lobster_roll_sandwich', 'macaroni_and_cheese', 'macarons', 'miso_soup', 'mussels', 'nachos', 'omelette', 'onion_rings', 'oysters', 'pad_thai', 'paella', 'pancakes', 'panna_cotta', 'peking_duck', 'pho', 'pizza', 'pork_chop', 'poutine', 'prime_rib', 'pulled_pork_sandwich', 'ramen', 'ravioli', 'red_velvet_cake', 'risotto', 'samosa', 'sashimi', 'scallops', 'seaweed_salad', 'shrimp_and_grits', 'spaghetti_bolognese', 'spaghetti_carbonara', 'spring_rolls', 'steak', 'strawberry_shortcake', 'sushi', 'tacos', 'takoyaki', 'tiramisu', 'tuna_tartare', 'waffles']\n"
     ]
    },
    {
     "name": "stderr",
     "output_type": "stream",
     "text": [
      "/tmp/ipykernel_23/264169387.py:17: FutureWarning: ChainedAssignmentError: behaviour will change in pandas 3.0!\n",
      "You are setting values through chained assignment. Currently this works in certain cases, but when using Copy-on-Write (which will become the default behaviour in pandas 3.0) this will never work to update the original DataFrame or Series, because the intermediate object on which we are setting values will behave as a copy.\n",
      "A typical example is when you are setting values in a column of a DataFrame, like:\n",
      "\n",
      "df[\"col\"][row_indexer] = value\n",
      "\n",
      "Use `df.loc[row_indexer, \"col\"] = values` instead, to perform the assignment in a single step and ensure this keeps updating the original `df`.\n",
      "\n",
      "See the caveats in the documentation: https://pandas.pydata.org/pandas-docs/stable/user_guide/indexing.html#returning-a-view-versus-a-copy\n",
      "\n",
      "  train_df['Labels'][iter1] = train_df['Labels'][iter1].split('\\n')[0]\n",
      "/tmp/ipykernel_23/264169387.py:18: FutureWarning: ChainedAssignmentError: behaviour will change in pandas 3.0!\n",
      "You are setting values through chained assignment. Currently this works in certain cases, but when using Copy-on-Write (which will become the default behaviour in pandas 3.0) this will never work to update the original DataFrame or Series, because the intermediate object on which we are setting values will behave as a copy.\n",
      "A typical example is when you are setting values in a column of a DataFrame, like:\n",
      "\n",
      "df[\"col\"][row_indexer] = value\n",
      "\n",
      "Use `df.loc[row_indexer, \"col\"] = values` instead, to perform the assignment in a single step and ensure this keeps updating the original `df`.\n",
      "\n",
      "See the caveats in the documentation: https://pandas.pydata.org/pandas-docs/stable/user_guide/indexing.html#returning-a-view-versus-a-copy\n",
      "\n",
      "  train_df['Labels'][iter1] = classes.index(train_df['Labels'][iter1])\n",
      "/tmp/ipykernel_23/264169387.py:21: FutureWarning: ChainedAssignmentError: behaviour will change in pandas 3.0!\n",
      "You are setting values through chained assignment. Currently this works in certain cases, but when using Copy-on-Write (which will become the default behaviour in pandas 3.0) this will never work to update the original DataFrame or Series, because the intermediate object on which we are setting values will behave as a copy.\n",
      "A typical example is when you are setting values in a column of a DataFrame, like:\n",
      "\n",
      "df[\"col\"][row_indexer] = value\n",
      "\n",
      "Use `df.loc[row_indexer, \"col\"] = values` instead, to perform the assignment in a single step and ensure this keeps updating the original `df`.\n",
      "\n",
      "See the caveats in the documentation: https://pandas.pydata.org/pandas-docs/stable/user_guide/indexing.html#returning-a-view-versus-a-copy\n",
      "\n",
      "  test_df['Labels'][iter1] = test_df['Labels'][iter1].split('\\n')[0]\n",
      "/tmp/ipykernel_23/264169387.py:22: FutureWarning: ChainedAssignmentError: behaviour will change in pandas 3.0!\n",
      "You are setting values through chained assignment. Currently this works in certain cases, but when using Copy-on-Write (which will become the default behaviour in pandas 3.0) this will never work to update the original DataFrame or Series, because the intermediate object on which we are setting values will behave as a copy.\n",
      "A typical example is when you are setting values in a column of a DataFrame, like:\n",
      "\n",
      "df[\"col\"][row_indexer] = value\n",
      "\n",
      "Use `df.loc[row_indexer, \"col\"] = values` instead, to perform the assignment in a single step and ensure this keeps updating the original `df`.\n",
      "\n",
      "See the caveats in the documentation: https://pandas.pydata.org/pandas-docs/stable/user_guide/indexing.html#returning-a-view-versus-a-copy\n",
      "\n",
      "  test_df['Labels'][iter1] = classes.index(test_df['Labels'][iter1])\n"
     ]
    },
    {
     "data": {
      "text/html": [
       "<div>\n",
       "<style scoped>\n",
       "    .dataframe tbody tr th:only-of-type {\n",
       "        vertical-align: middle;\n",
       "    }\n",
       "\n",
       "    .dataframe tbody tr th {\n",
       "        vertical-align: top;\n",
       "    }\n",
       "\n",
       "    .dataframe thead th {\n",
       "        text-align: right;\n",
       "    }\n",
       "</style>\n",
       "<table border=\"1\" class=\"dataframe\">\n",
       "  <thead>\n",
       "    <tr style=\"text-align: right;\">\n",
       "      <th></th>\n",
       "      <th>Images</th>\n",
       "      <th>Titles</th>\n",
       "      <th>Labels</th>\n",
       "    </tr>\n",
       "  </thead>\n",
       "  <tbody>\n",
       "    <tr>\n",
       "      <th>0</th>\n",
       "      <td>apple_pie_851.jpg</td>\n",
       "      <td>Crock-Pot Ladies  Crock-Pot Apple Pie Moonshine</td>\n",
       "      <td>0</td>\n",
       "    </tr>\n",
       "    <tr>\n",
       "      <th>1</th>\n",
       "      <td>apple_pie_140.jpg</td>\n",
       "      <td>Mom's Maple-Apple Pie Recipe | Taste of Home</td>\n",
       "      <td>0</td>\n",
       "    </tr>\n",
       "    <tr>\n",
       "      <th>2</th>\n",
       "      <td>apple_pie_858.jpg</td>\n",
       "      <td>Cookin&amp;#8217; Canuck &amp;#8211; Baked Apple Pie E...</td>\n",
       "      <td>0</td>\n",
       "    </tr>\n",
       "    <tr>\n",
       "      <th>3</th>\n",
       "      <td>apple_pie_449.jpg</td>\n",
       "      <td>Dutch Apple Pie Recipe | Just A Pinch Recipes</td>\n",
       "      <td>0</td>\n",
       "    </tr>\n",
       "    <tr>\n",
       "      <th>4</th>\n",
       "      <td>apple_pie_695.jpg</td>\n",
       "      <td>Our Share of the Harvest &amp;raquo; Grandma&amp;#8217...</td>\n",
       "      <td>0</td>\n",
       "    </tr>\n",
       "  </tbody>\n",
       "</table>\n",
       "</div>"
      ],
      "text/plain": [
       "              Images                                             Titles Labels\n",
       "0  apple_pie_851.jpg    Crock-Pot Ladies  Crock-Pot Apple Pie Moonshine      0\n",
       "1  apple_pie_140.jpg       Mom's Maple-Apple Pie Recipe | Taste of Home      0\n",
       "2  apple_pie_858.jpg  Cookin&#8217; Canuck &#8211; Baked Apple Pie E...      0\n",
       "3  apple_pie_449.jpg      Dutch Apple Pie Recipe | Just A Pinch Recipes      0\n",
       "4  apple_pie_695.jpg  Our Share of the Harvest &raquo; Grandma&#8217...      0"
      ]
     },
     "execution_count": 3,
     "metadata": {},
     "output_type": "execute_result"
    }
   ],
   "source": [
    "classnames = fast_scandir('/kaggle/input/upmcfood101/images/test')\n",
    "n_classes = len(classnames)\n",
    "print('Number of classes: ',n_classes)\n",
    "\n",
    "print(classnames[0].split('/')[-1])\n",
    "for iter1 in range(len(classnames)):\n",
    "    classnames[iter1] = classnames[iter1].split('/')[-1]\n",
    "\n",
    "classes =  sorted(classnames)\n",
    "print(classes)\n",
    "col_Names=[\"Images\", \"Titles\", \"Labels\"]\n",
    "\n",
    "train_df = pd.read_csv(datalink['train'], names=col_Names)\n",
    "test_df = pd.read_csv(datalink['test'], names=col_Names)\n",
    "\n",
    "for iter1 in range(len(train_df)):\n",
    "    train_df['Labels'][iter1] = train_df['Labels'][iter1].split('\\n')[0]\n",
    "    train_df['Labels'][iter1] = classes.index(train_df['Labels'][iter1])\n",
    "\n",
    "for iter1 in range(len(test_df)):\n",
    "    test_df['Labels'][iter1] = test_df['Labels'][iter1].split('\\n')[0]\n",
    "    test_df['Labels'][iter1] = classes.index(test_df['Labels'][iter1])\n",
    "\n",
    "train_df.head()"
   ]
  },
  {
   "cell_type": "code",
   "execution_count": 4,
   "id": "e9425401",
   "metadata": {
    "execution": {
     "iopub.execute_input": "2025-04-20T07:27:05.236405Z",
     "iopub.status.busy": "2025-04-20T07:27:05.236121Z",
     "iopub.status.idle": "2025-04-20T07:27:05.574173Z",
     "shell.execute_reply": "2025-04-20T07:27:05.573341Z"
    },
    "papermill": {
     "duration": 0.347758,
     "end_time": "2025-04-20T07:27:05.576205",
     "exception": false,
     "start_time": "2025-04-20T07:27:05.228447",
     "status": "completed"
    },
    "tags": []
   },
   "outputs": [
    {
     "name": "stdout",
     "output_type": "stream",
     "text": [
      ": 39338\n",
      "67971 22716\n"
     ]
    }
   ],
   "source": [
    "for iter1 in range(len(train_df)):\n",
    "    if len(train_df['Titles'][iter1]) < 2:\n",
    "        print(train_df['Titles'][iter1], iter1)\n",
    "        train_df = train_df.drop(iter1)\n",
    "\n",
    "print(len(train_df), len(test_df))"
   ]
  },
  {
   "cell_type": "markdown",
   "id": "eb4cadb3",
   "metadata": {
    "papermill": {
     "duration": 0.004565,
     "end_time": "2025-04-20T07:27:05.585816",
     "exception": false,
     "start_time": "2025-04-20T07:27:05.581251",
     "status": "completed"
    },
    "tags": []
   },
   "source": [
    "## Text Classification Module"
   ]
  },
  {
   "cell_type": "code",
   "execution_count": 5,
   "id": "5ab4af8d",
   "metadata": {
    "execution": {
     "iopub.execute_input": "2025-04-20T07:27:05.596393Z",
     "iopub.status.busy": "2025-04-20T07:27:05.595871Z",
     "iopub.status.idle": "2025-04-20T07:27:20.097680Z",
     "shell.execute_reply": "2025-04-20T07:27:20.096967Z"
    },
    "papermill": {
     "duration": 14.509255,
     "end_time": "2025-04-20T07:27:20.099630",
     "exception": false,
     "start_time": "2025-04-20T07:27:05.590375",
     "status": "completed"
    },
    "tags": []
   },
   "outputs": [
    {
     "name": "stdout",
     "output_type": "stream",
     "text": [
      "Collecting torchtext==0.5.0\r\n",
      "  Downloading torchtext-0.5.0-py3-none-any.whl.metadata (6.2 kB)\r\n",
      "Requirement already satisfied: tqdm in /opt/conda/lib/python3.10/site-packages (from torchtext==0.5.0) (4.66.4)\r\n",
      "Requirement already satisfied: requests in /opt/conda/lib/python3.10/site-packages (from torchtext==0.5.0) (2.32.3)\r\n",
      "Requirement already satisfied: torch in /opt/conda/lib/python3.10/site-packages (from torchtext==0.5.0) (2.4.0)\r\n",
      "Requirement already satisfied: numpy in /opt/conda/lib/python3.10/site-packages (from torchtext==0.5.0) (1.26.4)\r\n",
      "Requirement already satisfied: six in /opt/conda/lib/python3.10/site-packages (from torchtext==0.5.0) (1.16.0)\r\n",
      "Requirement already satisfied: sentencepiece in /opt/conda/lib/python3.10/site-packages (from torchtext==0.5.0) (0.2.0)\r\n",
      "Requirement already satisfied: charset-normalizer<4,>=2 in /opt/conda/lib/python3.10/site-packages (from requests->torchtext==0.5.0) (3.3.2)\r\n",
      "Requirement already satisfied: idna<4,>=2.5 in /opt/conda/lib/python3.10/site-packages (from requests->torchtext==0.5.0) (3.7)\r\n",
      "Requirement already satisfied: urllib3<3,>=1.21.1 in /opt/conda/lib/python3.10/site-packages (from requests->torchtext==0.5.0) (1.26.18)\r\n",
      "Requirement already satisfied: certifi>=2017.4.17 in /opt/conda/lib/python3.10/site-packages (from requests->torchtext==0.5.0) (2024.8.30)\r\n",
      "Requirement already satisfied: filelock in /opt/conda/lib/python3.10/site-packages (from torch->torchtext==0.5.0) (3.15.1)\r\n",
      "Requirement already satisfied: typing-extensions>=4.8.0 in /opt/conda/lib/python3.10/site-packages (from torch->torchtext==0.5.0) (4.12.2)\r\n",
      "Requirement already satisfied: sympy in /opt/conda/lib/python3.10/site-packages (from torch->torchtext==0.5.0) (1.13.3)\r\n",
      "Requirement already satisfied: networkx in /opt/conda/lib/python3.10/site-packages (from torch->torchtext==0.5.0) (3.3)\r\n",
      "Requirement already satisfied: jinja2 in /opt/conda/lib/python3.10/site-packages (from torch->torchtext==0.5.0) (3.1.4)\r\n",
      "Requirement already satisfied: fsspec in /opt/conda/lib/python3.10/site-packages (from torch->torchtext==0.5.0) (2024.6.1)\r\n",
      "Requirement already satisfied: MarkupSafe>=2.0 in /opt/conda/lib/python3.10/site-packages (from jinja2->torch->torchtext==0.5.0) (2.1.5)\r\n",
      "Requirement already satisfied: mpmath<1.4,>=1.1.0 in /opt/conda/lib/python3.10/site-packages (from sympy->torch->torchtext==0.5.0) (1.3.0)\r\n",
      "Downloading torchtext-0.5.0-py3-none-any.whl (73 kB)\r\n",
      "\u001b[2K   \u001b[90m━━━━━━━━━━━━━━━━━━━━━━━━━━━━━━━━━━━━━━━━\u001b[0m \u001b[32m73.2/73.2 kB\u001b[0m \u001b[31m4.9 MB/s\u001b[0m eta \u001b[36m0:00:00\u001b[0m\r\n",
      "\u001b[?25hInstalling collected packages: torchtext\r\n",
      "Successfully installed torchtext-0.5.0\r\n"
     ]
    }
   ],
   "source": [
    "!pip install torchtext==0.5.0\n",
    "\n",
    "import torch\n",
    "from torchtext.data.utils import get_tokenizer\n",
    "import collections\n",
    "import torchtext\n",
    "from torch.utils.data import Dataset, DataLoader\n",
    "import matplotlib.pyplot as plt\n",
    "import seaborn as sn\n",
    "\n",
    "tokenizer = get_tokenizer('basic_english')"
   ]
  },
  {
   "cell_type": "markdown",
   "id": "28c576e6",
   "metadata": {
    "papermill": {
     "duration": 0.00516,
     "end_time": "2025-04-20T07:27:20.110252",
     "exception": false,
     "start_time": "2025-04-20T07:27:20.105092",
     "status": "completed"
    },
    "tags": []
   },
   "source": [
    "## Details of Texts"
   ]
  },
  {
   "cell_type": "code",
   "execution_count": 6,
   "id": "9e0b46dd",
   "metadata": {
    "execution": {
     "iopub.execute_input": "2025-04-20T07:27:20.121867Z",
     "iopub.status.busy": "2025-04-20T07:27:20.121096Z",
     "iopub.status.idle": "2025-04-20T07:27:21.222976Z",
     "shell.execute_reply": "2025-04-20T07:27:21.222027Z"
    },
    "papermill": {
     "duration": 1.109677,
     "end_time": "2025-04-20T07:27:21.224838",
     "exception": false,
     "start_time": "2025-04-20T07:27:20.115161",
     "status": "completed"
    },
    "tags": []
   },
   "outputs": [
    {
     "name": "stdout",
     "output_type": "stream",
     "text": [
      "------------Description of the data-------------\n",
      "                 Images                                        Titles  Labels\n",
      "count             67971                                         67971   67971\n",
      "unique            67971                                         47832     101\n",
      "top     waffles_276.jpg  Cake Batter Ice Cream Recipe | POPSUGAR Food      62\n",
      "freq                  1                                           132     713\n",
      "\n",
      "------------Missing values in the data-------------\n",
      "Images    0\n",
      "Titles    0\n",
      "Labels    0\n",
      "dtype: int64\n"
     ]
    },
    {
     "data": {
      "image/png": "[encoded data removed]",
      "text/plain": [
       "<Figure size 2400x600 with 1 Axes>"
      ]
     },
     "metadata": {},
     "output_type": "display_data"
    }
   ],
   "source": [
    "print('------------Description of the data-------------')\n",
    "print(train_df.describe())\n",
    "\n",
    "# Check for missing values\n",
    "print('\\n------------Missing values in the data-------------')\n",
    "print(train_df.isnull().sum())\n",
    "\n",
    "plt.figure(figsize=(24, 6))\n",
    "sn.countplot(x='Labels', data=train_df)\n",
    "locs, labels = plt.xticks()\n",
    "plt.setp(labels, rotation=90)\n",
    "plt.title('Distribution of Classes in Training Data')\n",
    "plt.xlabel('Class Index')\n",
    "plt.ylabel('Count')\n",
    "plt.show()"
   ]
  },
  {
   "cell_type": "markdown",
   "id": "96a33a06",
   "metadata": {
    "papermill": {
     "duration": 0.005605,
     "end_time": "2025-04-20T07:27:21.236293",
     "exception": false,
     "start_time": "2025-04-20T07:27:21.230688",
     "status": "completed"
    },
    "tags": []
   },
   "source": [
    "## Vocabulary of all Tokens"
   ]
  },
  {
   "cell_type": "code",
   "execution_count": 7,
   "id": "3b5feec6",
   "metadata": {
    "execution": {
     "iopub.execute_input": "2025-04-20T07:27:21.248928Z",
     "iopub.status.busy": "2025-04-20T07:27:21.248306Z",
     "iopub.status.idle": "2025-04-20T07:27:23.777086Z",
     "shell.execute_reply": "2025-04-20T07:27:23.776334Z"
    },
    "papermill": {
     "duration": 2.537261,
     "end_time": "2025-04-20T07:27:23.779056",
     "exception": false,
     "start_time": "2025-04-20T07:27:21.241795",
     "status": "completed"
    },
    "tags": []
   },
   "outputs": [],
   "source": [
    "class TextDataset(Dataset):\n",
    "  def __init__(self,df):\n",
    "    self.n_samples = len(df)\n",
    "    self.dataframe = df\n",
    "\n",
    "  def __getitem__(self, index):\n",
    "    row = self.dataframe.iloc[index]\n",
    "    return row['Labels'], str(row['Titles'])\n",
    "\n",
    "  def __len__(self):\n",
    "    return self.n_samples\n",
    "\n",
    "train_dataset = TextDataset(train_df)\n",
    "test_dataset = TextDataset(test_df)\n",
    "\n",
    "counter = collections.Counter()\n",
    "\n",
    "for (label, other_inputs) in train_dataset:\n",
    "    counter.update(torchtext.data.utils.ngrams_iterator(tokenizer(other_inputs),ngrams=1))\n",
    "vocab = torchtext.vocab.Vocab(counter, min_freq=1)"
   ]
  },
  {
   "cell_type": "code",
   "execution_count": 8,
   "id": "c1a5a168",
   "metadata": {
    "execution": {
     "iopub.execute_input": "2025-04-20T07:27:23.792427Z",
     "iopub.status.busy": "2025-04-20T07:27:23.791801Z",
     "iopub.status.idle": "2025-04-20T07:27:23.797092Z",
     "shell.execute_reply": "2025-04-20T07:27:23.796268Z"
    },
    "papermill": {
     "duration": 0.013562,
     "end_time": "2025-04-20T07:27:23.798700",
     "exception": false,
     "start_time": "2025-04-20T07:27:23.785138",
     "status": "completed"
    },
    "tags": []
   },
   "outputs": [
    {
     "name": "stdout",
     "output_type": "stream",
     "text": [
      "Vocab size is 26178\n"
     ]
    }
   ],
   "source": [
    "vocab_size = len(vocab)\n",
    "print(f\"Vocab size is {vocab_size}\")\n",
    "\n",
    "def encode(x):\n",
    "    return [vocab.stoi[s] for s in tokenizer(x)]\n",
    "\n",
    "def decode(x):\n",
    "    return [vocab.itos[i] for i in x]"
   ]
  },
  {
   "cell_type": "code",
   "execution_count": 9,
   "id": "91d04aa1",
   "metadata": {
    "execution": {
     "iopub.execute_input": "2025-04-20T07:27:23.811110Z",
     "iopub.status.busy": "2025-04-20T07:27:23.810858Z",
     "iopub.status.idle": "2025-04-20T07:27:23.815362Z",
     "shell.execute_reply": "2025-04-20T07:27:23.814700Z"
    },
    "papermill": {
     "duration": 0.012395,
     "end_time": "2025-04-20T07:27:23.816912",
     "exception": false,
     "start_time": "2025-04-20T07:27:23.804517",
     "status": "completed"
    },
    "tags": []
   },
   "outputs": [],
   "source": [
    "def padify(b):\n",
    "    v = [encode(x[1]) for x in b]\n",
    "    l = max(map(len,v))\n",
    "    return ( # tuple of two tensors - labels and features\n",
    "        torch.LongTensor([t[0]-1 for t in b]),\n",
    "        torch.stack([torch.nn.functional.pad(torch.tensor(t),(0,l-len(t)),mode='constant',value=0) for t in v])\n",
    "    )"
   ]
  },
  {
   "cell_type": "markdown",
   "id": "0e2fb617",
   "metadata": {
    "papermill": {
     "duration": 0.005542,
     "end_time": "2025-04-20T07:27:23.828055",
     "exception": false,
     "start_time": "2025-04-20T07:27:23.822513",
     "status": "completed"
    },
    "tags": []
   },
   "source": [
    "## RNN Model"
   ]
  },
  {
   "cell_type": "code",
   "execution_count": 10,
   "id": "2b3edae7",
   "metadata": {
    "execution": {
     "iopub.execute_input": "2025-04-20T07:27:23.840269Z",
     "iopub.status.busy": "2025-04-20T07:27:23.840009Z",
     "iopub.status.idle": "2025-04-20T07:27:23.845386Z",
     "shell.execute_reply": "2025-04-20T07:27:23.844783Z"
    },
    "papermill": {
     "duration": 0.012936,
     "end_time": "2025-04-20T07:27:23.846746",
     "exception": false,
     "start_time": "2025-04-20T07:27:23.833810",
     "status": "completed"
    },
    "tags": []
   },
   "outputs": [],
   "source": [
    "class NNClassifier(torch.nn.Module):\n",
    "    def __init__(self, vocab_size, embed_dim, hidden_dim, num_class):\n",
    "        super().__init__()\n",
    "        self.hidden_dim = hidden_dim\n",
    "        self.embedding = torch.nn.Embedding(vocab_size, embed_dim)\n",
    "        self.layer1 = torch.nn.Linear(embed_dim,hidden_dim)\n",
    "        self.layer2 = torch.nn.Linear(hidden_dim,hidden_dim)\n",
    "        self.fc = torch.nn.Linear(hidden_dim, num_class)\n",
    "        self.lru = torch.nn.LeakyReLU()\n",
    "\n",
    "    def forward(self, x):\n",
    "        batch_size = x.size(0)\n",
    "        x = self.embedding(x)\n",
    "        x = self.layer1(x)\n",
    "        x = self.lru(x)\n",
    "        x = self.layer2(x)\n",
    "        x = self.lru(x)\n",
    "        return self.fc(x.mean(dim=1))"
   ]
  },
  {
   "cell_type": "markdown",
   "id": "619e2abf",
   "metadata": {
    "papermill": {
     "duration": 0.00547,
     "end_time": "2025-04-20T07:27:23.858003",
     "exception": false,
     "start_time": "2025-04-20T07:27:23.852533",
     "status": "completed"
    },
    "tags": []
   },
   "source": [
    "## Text Dataloader"
   ]
  },
  {
   "cell_type": "code",
   "execution_count": 11,
   "id": "6d61ffc4",
   "metadata": {
    "execution": {
     "iopub.execute_input": "2025-04-20T07:27:23.870635Z",
     "iopub.status.busy": "2025-04-20T07:27:23.870052Z",
     "iopub.status.idle": "2025-04-20T07:27:23.924508Z",
     "shell.execute_reply": "2025-04-20T07:27:23.923660Z"
    },
    "papermill": {
     "duration": 0.062496,
     "end_time": "2025-04-20T07:27:23.926152",
     "exception": false,
     "start_time": "2025-04-20T07:27:23.863656",
     "status": "completed"
    },
    "tags": []
   },
   "outputs": [
    {
     "data": {
      "text/plain": [
       "device(type='cuda', index=0)"
      ]
     },
     "execution_count": 11,
     "metadata": {},
     "output_type": "execute_result"
    }
   ],
   "source": [
    "train_loader = torch.utils.data.DataLoader(train_dataset, batch_size=128, collate_fn=padify, shuffle=True)\n",
    "device = torch.device(\"cuda:0\" if torch.cuda.is_available() else \"cpu\")\n",
    "device"
   ]
  },
  {
   "cell_type": "markdown",
   "id": "86b50c73",
   "metadata": {
    "papermill": {
     "duration": 0.005692,
     "end_time": "2025-04-20T07:27:23.937875",
     "exception": false,
     "start_time": "2025-04-20T07:27:23.932183",
     "status": "completed"
    },
    "tags": []
   },
   "source": [
    "### Training"
   ]
  },
  {
   "cell_type": "code",
   "execution_count": 12,
   "id": "95ae6baa",
   "metadata": {
    "execution": {
     "iopub.execute_input": "2025-04-20T07:27:23.951431Z",
     "iopub.status.busy": "2025-04-20T07:27:23.950601Z",
     "iopub.status.idle": "2025-04-20T07:28:09.322361Z",
     "shell.execute_reply": "2025-04-20T07:28:09.321272Z"
    },
    "papermill": {
     "duration": 45.380938,
     "end_time": "2025-04-20T07:28:09.324639",
     "exception": false,
     "start_time": "2025-04-20T07:27:23.943701",
     "status": "completed"
    },
    "tags": []
   },
   "outputs": [
    {
     "name": "stdout",
     "output_type": "stream",
     "text": [
      "Epoch 0: acc=0.5079372085153963\n",
      "Epoch 1: acc=0.801665416133351\n",
      "Epoch 2: acc=0.8183048653102059\n",
      "Epoch 3: acc=0.8314722455164703\n",
      "Epoch 4: acc=0.8413293904753498\n",
      "Epoch 5: acc=0.8529814185461447\n",
      "Epoch 6: acc=0.8615586058760354\n",
      "Epoch 7: acc=0.8717099939680157\n",
      "Epoch 8: acc=0.8823321710729576\n",
      "Epoch 9: acc=0.8915272689823601\n"
     ]
    }
   ],
   "source": [
    "model = NNClassifier(vocab_size,128,200,len(classes)).to(device)\n",
    "lr = 0.001\n",
    "loss_fn = torch.nn.CrossEntropyLoss(ignore_index=-1)\n",
    "optimizer = torch.optim.Adam(model.parameters(),lr=lr)\n",
    "loss_fn = loss_fn.to(device)\n",
    "model.train()\n",
    "\n",
    "for epoch in range(10):\n",
    "    total_loss,acc,count,i = 0,0,0,0\n",
    "    for labels,features in train_loader:\n",
    "        optimizer.zero_grad()\n",
    "        features, labels = features.to(device), labels.to(device)\n",
    "        out = model(features)\n",
    "        #print(out.shape, labels.shape)\n",
    "        loss = loss_fn(out,labels)\n",
    "        loss.backward()\n",
    "        optimizer.step()\n",
    "        total_loss+=loss\n",
    "        _,predicted = torch.max(out,1)\n",
    "        acc+=(predicted==labels).sum()\n",
    "        count+=len(labels)\n",
    "        i+=1\n",
    "    print(\"Epoch \" + f\"{epoch}: acc={acc.item()/count}\")"
   ]
  },
  {
   "cell_type": "code",
   "execution_count": 13,
   "id": "5007cc37",
   "metadata": {
    "execution": {
     "iopub.execute_input": "2025-04-20T07:28:09.345356Z",
     "iopub.status.busy": "2025-04-20T07:28:09.344206Z",
     "iopub.status.idle": "2025-04-20T07:28:17.488064Z",
     "shell.execute_reply": "2025-04-20T07:28:17.487061Z"
    },
    "papermill": {
     "duration": 8.155984,
     "end_time": "2025-04-20T07:28:17.490171",
     "exception": false,
     "start_time": "2025-04-20T07:28:09.334187",
     "status": "completed"
    },
    "tags": []
   },
   "outputs": [
    {
     "name": "stdout",
     "output_type": "stream",
     "text": [
      "22716 67971\n",
      "(101,)\n"
     ]
    }
   ],
   "source": [
    "test_loader = torch.utils.data.DataLoader(test_dataset, batch_size=128, collate_fn=padify, shuffle=False)\n",
    "train_loader = torch.utils.data.DataLoader(train_dataset, batch_size=128, collate_fn=padify, shuffle=False)\n",
    "\n",
    "model.eval()\n",
    "\n",
    "output_test = []\n",
    "for target, data in test_loader:\n",
    "        data = data.to(device)\n",
    "        target = target.to(device)\n",
    "        \n",
    "        output = model(data) # Feed Network\n",
    "        output_test.extend(output.data.cpu().numpy())\n",
    "\n",
    "output_train = []\n",
    "for target, data in train_loader:\n",
    "        data = data.to(device)\n",
    "        target = target.to(device)\n",
    "        \n",
    "        output = model(data) # Feed Network\n",
    "        output_train.extend(output.data.cpu().numpy())\n",
    "    \n",
    "print(len(output_test),len(output_train))\n",
    "print(output_test[0].shape)\n",
    "\n",
    "prediction_test_df = pd.DataFrame(output_test)\n",
    "prediction_train_df = pd.DataFrame(output_train)\n",
    "\n",
    "#prediction_train_df.head()"
   ]
  },
  {
   "cell_type": "markdown",
   "id": "c6259758",
   "metadata": {
    "execution": {
     "iopub.execute_input": "2025-04-19T12:35:49.712895Z",
     "iopub.status.busy": "2025-04-19T12:35:49.712254Z",
     "iopub.status.idle": "2025-04-19T12:35:58.009342Z",
     "shell.execute_reply": "2025-04-19T12:35:58.008472Z",
     "shell.execute_reply.started": "2025-04-19T12:35:49.712852Z"
    },
    "papermill": {
     "duration": 0.006221,
     "end_time": "2025-04-20T07:28:17.503064",
     "exception": false,
     "start_time": "2025-04-20T07:28:17.496843",
     "status": "completed"
    },
    "tags": []
   },
   "source": [
    "## Save CSV files"
   ]
  },
  {
   "cell_type": "code",
   "execution_count": 14,
   "id": "dc3d97ac",
   "metadata": {
    "execution": {
     "iopub.execute_input": "2025-04-20T07:28:17.516919Z",
     "iopub.status.busy": "2025-04-20T07:28:17.516305Z",
     "iopub.status.idle": "2025-04-20T07:28:17.559509Z",
     "shell.execute_reply": "2025-04-20T07:28:17.558626Z"
    },
    "papermill": {
     "duration": 0.052005,
     "end_time": "2025-04-20T07:28:17.561121",
     "exception": false,
     "start_time": "2025-04-20T07:28:17.509116",
     "status": "completed"
    },
    "tags": []
   },
   "outputs": [
    {
     "data": {
      "text/html": [
       "<div>\n",
       "<style scoped>\n",
       "    .dataframe tbody tr th:only-of-type {\n",
       "        vertical-align: middle;\n",
       "    }\n",
       "\n",
       "    .dataframe tbody tr th {\n",
       "        vertical-align: top;\n",
       "    }\n",
       "\n",
       "    .dataframe thead th {\n",
       "        text-align: right;\n",
       "    }\n",
       "</style>\n",
       "<table border=\"1\" class=\"dataframe\">\n",
       "  <thead>\n",
       "    <tr style=\"text-align: right;\">\n",
       "      <th></th>\n",
       "      <th>Images</th>\n",
       "      <th>Titles</th>\n",
       "      <th>Labels</th>\n",
       "      <th>0</th>\n",
       "      <th>1</th>\n",
       "      <th>2</th>\n",
       "      <th>3</th>\n",
       "      <th>4</th>\n",
       "      <th>5</th>\n",
       "      <th>6</th>\n",
       "      <th>...</th>\n",
       "      <th>91</th>\n",
       "      <th>92</th>\n",
       "      <th>93</th>\n",
       "      <th>94</th>\n",
       "      <th>95</th>\n",
       "      <th>96</th>\n",
       "      <th>97</th>\n",
       "      <th>98</th>\n",
       "      <th>99</th>\n",
       "      <th>100</th>\n",
       "    </tr>\n",
       "  </thead>\n",
       "  <tbody>\n",
       "    <tr>\n",
       "      <th>0</th>\n",
       "      <td>apple_pie_851.jpg</td>\n",
       "      <td>Crock-Pot Ladies  Crock-Pot Apple Pie Moonshine</td>\n",
       "      <td>0</td>\n",
       "      <td>-2.428174</td>\n",
       "      <td>-0.716513</td>\n",
       "      <td>-1.393932</td>\n",
       "      <td>-1.445138</td>\n",
       "      <td>-2.735707</td>\n",
       "      <td>0.255293</td>\n",
       "      <td>-1.227859</td>\n",
       "      <td>...</td>\n",
       "      <td>-1.674568</td>\n",
       "      <td>-3.047418</td>\n",
       "      <td>-0.039955</td>\n",
       "      <td>-0.973345</td>\n",
       "      <td>-1.944534</td>\n",
       "      <td>-2.005103</td>\n",
       "      <td>-1.716720</td>\n",
       "      <td>-1.394992</td>\n",
       "      <td>-2.493656</td>\n",
       "      <td>-18.945679</td>\n",
       "    </tr>\n",
       "    <tr>\n",
       "      <th>1</th>\n",
       "      <td>apple_pie_140.jpg</td>\n",
       "      <td>Mom's Maple-Apple Pie Recipe | Taste of Home</td>\n",
       "      <td>0</td>\n",
       "      <td>-1.201577</td>\n",
       "      <td>-0.129055</td>\n",
       "      <td>-3.151912</td>\n",
       "      <td>-3.145733</td>\n",
       "      <td>-1.827629</td>\n",
       "      <td>-1.248257</td>\n",
       "      <td>-2.701943</td>\n",
       "      <td>...</td>\n",
       "      <td>-1.921065</td>\n",
       "      <td>-1.005522</td>\n",
       "      <td>-0.596233</td>\n",
       "      <td>-0.777625</td>\n",
       "      <td>-0.449589</td>\n",
       "      <td>-2.835437</td>\n",
       "      <td>-1.061875</td>\n",
       "      <td>-1.930308</td>\n",
       "      <td>-1.332734</td>\n",
       "      <td>-16.843304</td>\n",
       "    </tr>\n",
       "    <tr>\n",
       "      <th>2</th>\n",
       "      <td>apple_pie_858.jpg</td>\n",
       "      <td>Cookin&amp;#8217; Canuck &amp;#8211; Baked Apple Pie E...</td>\n",
       "      <td>0</td>\n",
       "      <td>-1.812280</td>\n",
       "      <td>-5.008090</td>\n",
       "      <td>-4.939887</td>\n",
       "      <td>-5.081469</td>\n",
       "      <td>-5.625733</td>\n",
       "      <td>-1.841929</td>\n",
       "      <td>-6.446833</td>\n",
       "      <td>...</td>\n",
       "      <td>0.672923</td>\n",
       "      <td>-3.535914</td>\n",
       "      <td>-2.401711</td>\n",
       "      <td>-1.654135</td>\n",
       "      <td>-4.156447</td>\n",
       "      <td>-9.081838</td>\n",
       "      <td>-5.433847</td>\n",
       "      <td>-4.021327</td>\n",
       "      <td>-1.518717</td>\n",
       "      <td>-35.352528</td>\n",
       "    </tr>\n",
       "    <tr>\n",
       "      <th>3</th>\n",
       "      <td>apple_pie_449.jpg</td>\n",
       "      <td>Dutch Apple Pie Recipe | Just A Pinch Recipes</td>\n",
       "      <td>0</td>\n",
       "      <td>0.005793</td>\n",
       "      <td>-0.144258</td>\n",
       "      <td>-1.703959</td>\n",
       "      <td>-1.450145</td>\n",
       "      <td>-2.241200</td>\n",
       "      <td>-1.372455</td>\n",
       "      <td>-1.151806</td>\n",
       "      <td>...</td>\n",
       "      <td>-3.041842</td>\n",
       "      <td>-0.536162</td>\n",
       "      <td>-1.505571</td>\n",
       "      <td>0.112371</td>\n",
       "      <td>-0.704045</td>\n",
       "      <td>-2.344195</td>\n",
       "      <td>-3.623490</td>\n",
       "      <td>-1.172556</td>\n",
       "      <td>-1.294111</td>\n",
       "      <td>-21.095592</td>\n",
       "    </tr>\n",
       "    <tr>\n",
       "      <th>4</th>\n",
       "      <td>apple_pie_695.jpg</td>\n",
       "      <td>Our Share of the Harvest &amp;raquo; Grandma&amp;#8217...</td>\n",
       "      <td>0</td>\n",
       "      <td>-4.573693</td>\n",
       "      <td>-3.998559</td>\n",
       "      <td>-3.359232</td>\n",
       "      <td>-4.144498</td>\n",
       "      <td>-8.028936</td>\n",
       "      <td>-6.882055</td>\n",
       "      <td>-4.324083</td>\n",
       "      <td>...</td>\n",
       "      <td>-4.521409</td>\n",
       "      <td>-4.025358</td>\n",
       "      <td>-3.545596</td>\n",
       "      <td>-1.139970</td>\n",
       "      <td>-4.336815</td>\n",
       "      <td>-5.116168</td>\n",
       "      <td>-7.100971</td>\n",
       "      <td>-2.531950</td>\n",
       "      <td>-6.248171</td>\n",
       "      <td>-46.718246</td>\n",
       "    </tr>\n",
       "  </tbody>\n",
       "</table>\n",
       "<p>5 rows × 104 columns</p>\n",
       "</div>"
      ],
      "text/plain": [
       "              Images                                             Titles  \\\n",
       "0  apple_pie_851.jpg    Crock-Pot Ladies  Crock-Pot Apple Pie Moonshine   \n",
       "1  apple_pie_140.jpg       Mom's Maple-Apple Pie Recipe | Taste of Home   \n",
       "2  apple_pie_858.jpg  Cookin&#8217; Canuck &#8211; Baked Apple Pie E...   \n",
       "3  apple_pie_449.jpg      Dutch Apple Pie Recipe | Just A Pinch Recipes   \n",
       "4  apple_pie_695.jpg  Our Share of the Harvest &raquo; Grandma&#8217...   \n",
       "\n",
       "  Labels         0         1         2         3         4         5  \\\n",
       "0      0 -2.428174 -0.716513 -1.393932 -1.445138 -2.735707  0.255293   \n",
       "1      0 -1.201577 -0.129055 -3.151912 -3.145733 -1.827629 -1.248257   \n",
       "2      0 -1.812280 -5.008090 -4.939887 -5.081469 -5.625733 -1.841929   \n",
       "3      0  0.005793 -0.144258 -1.703959 -1.450145 -2.241200 -1.372455   \n",
       "4      0 -4.573693 -3.998559 -3.359232 -4.144498 -8.028936 -6.882055   \n",
       "\n",
       "          6  ...        91        92        93        94        95        96  \\\n",
       "0 -1.227859  ... -1.674568 -3.047418 -0.039955 -0.973345 -1.944534 -2.005103   \n",
       "1 -2.701943  ... -1.921065 -1.005522 -0.596233 -0.777625 -0.449589 -2.835437   \n",
       "2 -6.446833  ...  0.672923 -3.535914 -2.401711 -1.654135 -4.156447 -9.081838   \n",
       "3 -1.151806  ... -3.041842 -0.536162 -1.505571  0.112371 -0.704045 -2.344195   \n",
       "4 -4.324083  ... -4.521409 -4.025358 -3.545596 -1.139970 -4.336815 -5.116168   \n",
       "\n",
       "         97        98        99        100  \n",
       "0 -1.716720 -1.394992 -2.493656 -18.945679  \n",
       "1 -1.061875 -1.930308 -1.332734 -16.843304  \n",
       "2 -5.433847 -4.021327 -1.518717 -35.352528  \n",
       "3 -3.623490 -1.172556 -1.294111 -21.095592  \n",
       "4 -7.100971 -2.531950 -6.248171 -46.718246  \n",
       "\n",
       "[5 rows x 104 columns]"
      ]
     },
     "execution_count": 14,
     "metadata": {},
     "output_type": "execute_result"
    }
   ],
   "source": [
    "train1_df = pd.concat([train_df, prediction_train_df], axis=1)\n",
    "test_df_save = pd.concat([test_df, prediction_test_df], axis=1)\n",
    "\n",
    "train1_df.head()"
   ]
  },
  {
   "cell_type": "code",
   "execution_count": 15,
   "id": "1baeef21",
   "metadata": {
    "execution": {
     "iopub.execute_input": "2025-04-20T07:28:17.575501Z",
     "iopub.status.busy": "2025-04-20T07:28:17.575030Z",
     "iopub.status.idle": "2025-04-20T07:28:37.201315Z",
     "shell.execute_reply": "2025-04-20T07:28:37.200440Z"
    },
    "papermill": {
     "duration": 19.635269,
     "end_time": "2025-04-20T07:28:37.203219",
     "exception": false,
     "start_time": "2025-04-20T07:28:17.567950",
     "status": "completed"
    },
    "tags": []
   },
   "outputs": [
    {
     "data": {
      "text/html": [
       "<div>\n",
       "<style scoped>\n",
       "    .dataframe tbody tr th:only-of-type {\n",
       "        vertical-align: middle;\n",
       "    }\n",
       "\n",
       "    .dataframe tbody tr th {\n",
       "        vertical-align: top;\n",
       "    }\n",
       "\n",
       "    .dataframe thead th {\n",
       "        text-align: right;\n",
       "    }\n",
       "</style>\n",
       "<table border=\"1\" class=\"dataframe\">\n",
       "  <thead>\n",
       "    <tr style=\"text-align: right;\">\n",
       "      <th></th>\n",
       "      <th>Images</th>\n",
       "      <th>Titles</th>\n",
       "      <th>Labels</th>\n",
       "      <th>0</th>\n",
       "      <th>1</th>\n",
       "      <th>2</th>\n",
       "      <th>3</th>\n",
       "      <th>4</th>\n",
       "      <th>5</th>\n",
       "      <th>6</th>\n",
       "      <th>...</th>\n",
       "      <th>91</th>\n",
       "      <th>92</th>\n",
       "      <th>93</th>\n",
       "      <th>94</th>\n",
       "      <th>95</th>\n",
       "      <th>96</th>\n",
       "      <th>97</th>\n",
       "      <th>98</th>\n",
       "      <th>99</th>\n",
       "      <th>100</th>\n",
       "    </tr>\n",
       "  </thead>\n",
       "  <tbody>\n",
       "    <tr>\n",
       "      <th>9</th>\n",
       "      <td>apple_pie_158.jpg</td>\n",
       "      <td>Apple Pie Grilled Cheese Recipe: Cheddar</td>\n",
       "      <td>0</td>\n",
       "      <td>-1.143576</td>\n",
       "      <td>-1.108440</td>\n",
       "      <td>-4.357209</td>\n",
       "      <td>-6.214904</td>\n",
       "      <td>-2.084926</td>\n",
       "      <td>-4.094921</td>\n",
       "      <td>-5.627248</td>\n",
       "      <td>...</td>\n",
       "      <td>-4.860799</td>\n",
       "      <td>-2.332830</td>\n",
       "      <td>0.433912</td>\n",
       "      <td>-0.237159</td>\n",
       "      <td>-2.513320</td>\n",
       "      <td>-3.128082</td>\n",
       "      <td>-1.670550</td>\n",
       "      <td>-2.461486</td>\n",
       "      <td>-2.014486</td>\n",
       "      <td>-27.156395</td>\n",
       "    </tr>\n",
       "    <tr>\n",
       "      <th>19</th>\n",
       "      <td>apple_pie_958.jpg</td>\n",
       "      <td>apple pie cookies | smitten kitchen</td>\n",
       "      <td>0</td>\n",
       "      <td>-4.314074</td>\n",
       "      <td>0.607831</td>\n",
       "      <td>-2.657062</td>\n",
       "      <td>-3.305398</td>\n",
       "      <td>-1.991319</td>\n",
       "      <td>-0.883437</td>\n",
       "      <td>-2.355562</td>\n",
       "      <td>...</td>\n",
       "      <td>-3.655601</td>\n",
       "      <td>-2.956768</td>\n",
       "      <td>-0.543903</td>\n",
       "      <td>-0.704563</td>\n",
       "      <td>-2.531600</td>\n",
       "      <td>-0.682654</td>\n",
       "      <td>0.183727</td>\n",
       "      <td>-1.132306</td>\n",
       "      <td>-1.882285</td>\n",
       "      <td>-20.035025</td>\n",
       "    </tr>\n",
       "    <tr>\n",
       "      <th>29</th>\n",
       "      <td>apple_pie_130.jpg</td>\n",
       "      <td>APPLE PIE JAM</td>\n",
       "      <td>0</td>\n",
       "      <td>-3.035569</td>\n",
       "      <td>0.961816</td>\n",
       "      <td>-0.272204</td>\n",
       "      <td>-0.719758</td>\n",
       "      <td>-1.891337</td>\n",
       "      <td>-0.450665</td>\n",
       "      <td>-2.891466</td>\n",
       "      <td>...</td>\n",
       "      <td>-2.570620</td>\n",
       "      <td>-2.537751</td>\n",
       "      <td>-0.239245</td>\n",
       "      <td>0.335503</td>\n",
       "      <td>-2.613521</td>\n",
       "      <td>0.388985</td>\n",
       "      <td>-2.478908</td>\n",
       "      <td>0.193861</td>\n",
       "      <td>-2.739310</td>\n",
       "      <td>-15.924957</td>\n",
       "    </tr>\n",
       "    <tr>\n",
       "      <th>39</th>\n",
       "      <td>apple_pie_282.jpg</td>\n",
       "      <td>Crunchy Caramel Apple Pie Recipe | Spoonful</td>\n",
       "      <td>0</td>\n",
       "      <td>-2.588492</td>\n",
       "      <td>-0.851133</td>\n",
       "      <td>-3.679092</td>\n",
       "      <td>-3.204058</td>\n",
       "      <td>-3.238842</td>\n",
       "      <td>-0.483632</td>\n",
       "      <td>-1.277496</td>\n",
       "      <td>...</td>\n",
       "      <td>-1.879839</td>\n",
       "      <td>-3.763354</td>\n",
       "      <td>-1.202074</td>\n",
       "      <td>-0.694276</td>\n",
       "      <td>-2.493545</td>\n",
       "      <td>-2.409227</td>\n",
       "      <td>-3.746000</td>\n",
       "      <td>-1.848163</td>\n",
       "      <td>-0.945987</td>\n",
       "      <td>-24.127102</td>\n",
       "    </tr>\n",
       "    <tr>\n",
       "      <th>49</th>\n",
       "      <td>apple_pie_141.jpg</td>\n",
       "      <td>Caramel Crunch Apple Pie Recipe - Baking.Food.com</td>\n",
       "      <td>0</td>\n",
       "      <td>-2.385232</td>\n",
       "      <td>-0.385387</td>\n",
       "      <td>-4.671329</td>\n",
       "      <td>-5.267313</td>\n",
       "      <td>-3.793357</td>\n",
       "      <td>-0.447348</td>\n",
       "      <td>-2.298692</td>\n",
       "      <td>...</td>\n",
       "      <td>-2.759793</td>\n",
       "      <td>-3.214911</td>\n",
       "      <td>-0.499843</td>\n",
       "      <td>-1.786779</td>\n",
       "      <td>-2.574223</td>\n",
       "      <td>-2.863248</td>\n",
       "      <td>-1.207029</td>\n",
       "      <td>-3.477342</td>\n",
       "      <td>-1.220052</td>\n",
       "      <td>-24.541433</td>\n",
       "    </tr>\n",
       "  </tbody>\n",
       "</table>\n",
       "<p>5 rows × 104 columns</p>\n",
       "</div>"
      ],
      "text/plain": [
       "               Images                                             Titles  \\\n",
       "9   apple_pie_158.jpg           Apple Pie Grilled Cheese Recipe: Cheddar   \n",
       "19  apple_pie_958.jpg                apple pie cookies | smitten kitchen   \n",
       "29  apple_pie_130.jpg                                      APPLE PIE JAM   \n",
       "39  apple_pie_282.jpg        Crunchy Caramel Apple Pie Recipe | Spoonful   \n",
       "49  apple_pie_141.jpg  Caramel Crunch Apple Pie Recipe - Baking.Food.com   \n",
       "\n",
       "    Labels         0         1         2         3         4         5  \\\n",
       "9        0 -1.143576 -1.108440 -4.357209 -6.214904 -2.084926 -4.094921   \n",
       "19       0 -4.314074  0.607831 -2.657062 -3.305398 -1.991319 -0.883437   \n",
       "29       0 -3.035569  0.961816 -0.272204 -0.719758 -1.891337 -0.450665   \n",
       "39       0 -2.588492 -0.851133 -3.679092 -3.204058 -3.238842 -0.483632   \n",
       "49       0 -2.385232 -0.385387 -4.671329 -5.267313 -3.793357 -0.447348   \n",
       "\n",
       "           6  ...        91        92        93        94        95        96  \\\n",
       "9  -5.627248  ... -4.860799 -2.332830  0.433912 -0.237159 -2.513320 -3.128082   \n",
       "19 -2.355562  ... -3.655601 -2.956768 -0.543903 -0.704563 -2.531600 -0.682654   \n",
       "29 -2.891466  ... -2.570620 -2.537751 -0.239245  0.335503 -2.613521  0.388985   \n",
       "39 -1.277496  ... -1.879839 -3.763354 -1.202074 -0.694276 -2.493545 -2.409227   \n",
       "49 -2.298692  ... -2.759793 -3.214911 -0.499843 -1.786779 -2.574223 -2.863248   \n",
       "\n",
       "          97        98        99        100  \n",
       "9  -1.670550 -2.461486 -2.014486 -27.156395  \n",
       "19  0.183727 -1.132306 -1.882285 -20.035025  \n",
       "29 -2.478908  0.193861 -2.739310 -15.924957  \n",
       "39 -3.746000 -1.848163 -0.945987 -24.127102  \n",
       "49 -1.207029 -3.477342 -1.220052 -24.541433  \n",
       "\n",
       "[5 rows x 104 columns]"
      ]
     },
     "execution_count": 15,
     "metadata": {},
     "output_type": "execute_result"
    }
   ],
   "source": [
    "train_df_save = []\n",
    "valid_df_save = []\n",
    "\n",
    "split_counter = 0\n",
    "for iter1 in range(len(train1_df)):\n",
    "    split_counter = split_counter + 1\n",
    "    if split_counter%10 ==0:\n",
    "        valid_df_save.append(train1_df.iloc[iter1])\n",
    "    train_df_save.append(train1_df.iloc[iter1])\n",
    "\n",
    "#print(test_df_save.columns, len(train1_df), np.size(train_df_save), split_counter)\n",
    "train_df_save = pd.DataFrame(train_df_save, columns=test_df_save.columns)\n",
    "train_df_save = train_df_save.dropna()\n",
    "\n",
    "valid_df_save = pd.DataFrame(valid_df_save, columns=test_df_save.columns)\n",
    "train_df_save.to_csv('train.csv',index=False)\n",
    "test_df_save.to_csv('test.csv',index=False)\n",
    "valid_df_save.to_csv('valid.csv',index=False)\n",
    "\n",
    "valid_df_save.head()"
   ]
  },
  {
   "cell_type": "markdown",
   "id": "a2616b24",
   "metadata": {
    "papermill": {
     "duration": 0.006478,
     "end_time": "2025-04-20T07:28:37.217068",
     "exception": false,
     "start_time": "2025-04-20T07:28:37.210590",
     "status": "completed"
    },
    "tags": []
   },
   "source": [
    "## Test Accuracy"
   ]
  },
  {
   "cell_type": "code",
   "execution_count": 16,
   "id": "a7a33ef6",
   "metadata": {
    "execution": {
     "iopub.execute_input": "2025-04-20T07:28:37.231935Z",
     "iopub.status.busy": "2025-04-20T07:28:37.231243Z",
     "iopub.status.idle": "2025-04-20T07:28:38.428906Z",
     "shell.execute_reply": "2025-04-20T07:28:38.427974Z"
    },
    "papermill": {
     "duration": 1.207197,
     "end_time": "2025-04-20T07:28:38.430733",
     "exception": false,
     "start_time": "2025-04-20T07:28:37.223536",
     "status": "completed"
    },
    "tags": []
   },
   "outputs": [
    {
     "name": "stdout",
     "output_type": "stream",
     "text": [
      "Test acc=0.8335534425074838\n"
     ]
    }
   ],
   "source": [
    "total_loss,acc,count,i = 0,0,0,0\n",
    "for labels,features in test_loader:\n",
    "    features, labels = features.to(device), labels.to(device)\n",
    "    out = model(features)\n",
    "    loss = loss_fn(out,labels)\n",
    "    total_loss+=loss\n",
    "    _,predicted = torch.max(out,1)\n",
    "    acc+=(predicted==labels).sum()\n",
    "    count+=len(labels)\n",
    "    i+=1\n",
    "print(\"Test \" + f\"acc={acc.item()/count}\")"
   ]
  },
  {
   "cell_type": "markdown",
   "id": "e5412c80",
   "metadata": {
    "papermill": {
     "duration": 0.006724,
     "end_time": "2025-04-20T07:28:38.444300",
     "exception": false,
     "start_time": "2025-04-20T07:28:38.437576",
     "status": "completed"
    },
    "tags": []
   },
   "source": [
    "### Save model"
   ]
  },
  {
   "cell_type": "code",
   "execution_count": 17,
   "id": "c0320c28",
   "metadata": {
    "execution": {
     "iopub.execute_input": "2025-04-20T07:28:38.459265Z",
     "iopub.status.busy": "2025-04-20T07:28:38.458461Z",
     "iopub.status.idle": "2025-04-20T07:28:38.485934Z",
     "shell.execute_reply": "2025-04-20T07:28:38.485020Z"
    },
    "papermill": {
     "duration": 0.036718,
     "end_time": "2025-04-20T07:28:38.487665",
     "exception": false,
     "start_time": "2025-04-20T07:28:38.450947",
     "status": "completed"
    },
    "tags": []
   },
   "outputs": [
    {
     "data": {
      "text/plain": [
       "\"\\n# Getting back the objects:\\nwith open('objs.pkl') as f: \\n    vocab_size, classes = pickle.load(f)\\n\""
      ]
     },
     "execution_count": 17,
     "metadata": {},
     "output_type": "execute_result"
    }
   ],
   "source": [
    "PATH = \"./NN_text_model.pt\"\n",
    "torch.save(model.state_dict(), PATH)\n",
    "\n",
    "import pickle\n",
    "\n",
    "with open('objs.pkl', 'wb') as f:\n",
    "    pickle.dump(classes, f)\n",
    "\n",
    "'''\n",
    "# Getting back the objects:\n",
    "with open('objs.pkl') as f: \n",
    "    vocab_size, classes = pickle.load(f)\n",
    "'''"
   ]
  }
 ],
 "metadata": {
  "kaggle": {
   "accelerator": "gpu",
   "dataSources": [
    {
     "datasetId": 917704,
     "sourceId": 1554647,
     "sourceType": "datasetVersion"
    }
   ],
   "dockerImageVersionId": 30787,
   "isGpuEnabled": true,
   "isInternetEnabled": true,
   "language": "python",
   "sourceType": "notebook"
  },
  "kernelspec": {
   "display_name": "Python 3",
   "language": "python",
   "name": "python3"
  },
  "language_info": {
   "codemirror_mode": {
    "name": "ipython",
    "version": 3
   },
   "file_extension": ".py",
   "mimetype": "text/x-python",
   "name": "python",
   "nbconvert_exporter": "python",
   "pygments_lexer": "ipython3",
   "version": "3.10.14"
  },
  "papermill": {
   "default_parameters": {},
   "duration": 232.400506,
   "end_time": "2025-04-20T07:28:40.017450",
   "environment_variables": {},
   "exception": null,
   "input_path": "__notebook__.ipynb",
   "output_path": "__notebook__.ipynb",
   "parameters": {},
   "start_time": "2025-04-20T07:24:47.616944",
   "version": "2.6.0"
  }
 },
 "nbformat": 4,
 "nbformat_minor": 5
}
